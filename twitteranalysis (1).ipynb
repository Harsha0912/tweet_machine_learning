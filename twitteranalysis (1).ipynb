{
  "cells": [
    {
      "cell_type": "code",
      "execution_count": 1,
      "metadata": {
        "id": "PDh8jUee53BA"
      },
      "outputs": [],
      "source": [
        "# import pandas into session as pd\n",
        "import pandas as pd"
      ]
    },
    {
      "cell_type": "code",
      "execution_count": 2,
      "metadata": {
        "id": "a90v0b7n5iEJ"
      },
      "outputs": [],
      "source": [
        "# read file from folder\n",
        "df = pd.read_csv('/workspaces/tweet_machine_learning/tweetsdata (2).csv')"
      ]
    },
    {
      "cell_type": "code",
      "execution_count": 3,
      "metadata": {
        "colab": {
          "base_uri": "https://localhost:8080/",
          "height": 615
        },
        "id": "9kKPOm1r5_I8",
        "outputId": "dcf08022-ccde-4a20-cbbd-491ceb8443a7"
      },
      "outputs": [
        {
          "data": {
            "text/html": [
              "<div>\n",
              "<style scoped>\n",
              "    .dataframe tbody tr th:only-of-type {\n",
              "        vertical-align: middle;\n",
              "    }\n",
              "\n",
              "    .dataframe tbody tr th {\n",
              "        vertical-align: top;\n",
              "    }\n",
              "\n",
              "    .dataframe thead th {\n",
              "        text-align: right;\n",
              "    }\n",
              "</style>\n",
              "<table border=\"1\" class=\"dataframe\">\n",
              "  <thead>\n",
              "    <tr style=\"text-align: right;\">\n",
              "      <th></th>\n",
              "      <th>Unnamed: 0</th>\n",
              "      <th>Situation</th>\n",
              "      <th>emotion</th>\n",
              "      <th>empathetic_dialogues</th>\n",
              "      <th>labels</th>\n",
              "      <th>Unnamed: 5</th>\n",
              "    </tr>\n",
              "  </thead>\n",
              "  <tbody>\n",
              "    <tr>\n",
              "      <th>0</th>\n",
              "      <td>0</td>\n",
              "      <td>I remember going to the fireworks with my best...</td>\n",
              "      <td>sentimental</td>\n",
              "      <td>Customer :I remember going to see the firework...</td>\n",
              "      <td>Was this a friend you were in love with, or ju...</td>\n",
              "      <td>NaN</td>\n",
              "    </tr>\n",
              "    <tr>\n",
              "      <th>1</th>\n",
              "      <td>1</td>\n",
              "      <td>I remember going to the fireworks with my best...</td>\n",
              "      <td>sentimental</td>\n",
              "      <td>Customer :This was a best friend. I miss her.\\...</td>\n",
              "      <td>Where has she gone?</td>\n",
              "      <td>NaN</td>\n",
              "    </tr>\n",
              "    <tr>\n",
              "      <th>2</th>\n",
              "      <td>2</td>\n",
              "      <td>I remember going to the fireworks with my best...</td>\n",
              "      <td>sentimental</td>\n",
              "      <td>Customer :We no longer talk.\\nAgent :</td>\n",
              "      <td>Oh was this something that happened because of...</td>\n",
              "      <td>NaN</td>\n",
              "    </tr>\n",
              "    <tr>\n",
              "      <th>3</th>\n",
              "      <td>3</td>\n",
              "      <td>I remember going to the fireworks with my best...</td>\n",
              "      <td>sentimental</td>\n",
              "      <td>Customer :Was this a friend you were in love w...</td>\n",
              "      <td>This was a best friend. I miss her.</td>\n",
              "      <td>NaN</td>\n",
              "    </tr>\n",
              "    <tr>\n",
              "      <th>4</th>\n",
              "      <td>4</td>\n",
              "      <td>I remember going to the fireworks with my best...</td>\n",
              "      <td>sentimental</td>\n",
              "      <td>Customer :Where has she gone?\\nAgent :</td>\n",
              "      <td>We no longer talk.</td>\n",
              "      <td>NaN</td>\n",
              "    </tr>\n",
              "    <tr>\n",
              "      <th>...</th>\n",
              "      <td>...</td>\n",
              "      <td>...</td>\n",
              "      <td>...</td>\n",
              "      <td>...</td>\n",
              "      <td>...</td>\n",
              "      <td>...</td>\n",
              "    </tr>\n",
              "    <tr>\n",
              "      <th>64631</th>\n",
              "      <td>64631</td>\n",
              "      <td>I found some pictures of my grandma in the att...</td>\n",
              "      <td>sentimental</td>\n",
              "      <td>Customer :Did you find anything great?\\nAgent :</td>\n",
              "      <td>Yeah I found some old pictures of when us kids...</td>\n",
              "      <td>NaN</td>\n",
              "    </tr>\n",
              "    <tr>\n",
              "      <th>64632</th>\n",
              "      <td>64632</td>\n",
              "      <td>I found some pictures of my grandma in the att...</td>\n",
              "      <td>sentimental</td>\n",
              "      <td>Customer :What a wonderful memory.  \\nAgent :</td>\n",
              "      <td>Yeah reminds me of the good old days.  I miss ...</td>\n",
              "      <td>NaN</td>\n",
              "    </tr>\n",
              "    <tr>\n",
              "      <th>64633</th>\n",
              "      <td>64633</td>\n",
              "      <td>I woke up this morning to my wife telling me s...</td>\n",
              "      <td>surprised</td>\n",
              "      <td>Customer :I woke up this morning to my wife te...</td>\n",
              "      <td>Oh hey that's awesome!  That is awesome right?</td>\n",
              "      <td>NaN</td>\n",
              "    </tr>\n",
              "    <tr>\n",
              "      <th>64634</th>\n",
              "      <td>64634</td>\n",
              "      <td>I woke up this morning to my wife telling me s...</td>\n",
              "      <td>surprised</td>\n",
              "      <td>Customer :It is soooo awesome.  We have been w...</td>\n",
              "      <td>That is awesome!!!! Congratulations!</td>\n",
              "      <td>NaN</td>\n",
              "    </tr>\n",
              "    <tr>\n",
              "      <th>64635</th>\n",
              "      <td>64635</td>\n",
              "      <td>I woke up this morning to my wife telling me s...</td>\n",
              "      <td>surprised</td>\n",
              "      <td>Customer :Oh hey that's awesome!  That is awes...</td>\n",
              "      <td>It is soooo awesome.  We have been wanting a b...</td>\n",
              "      <td>NaN</td>\n",
              "    </tr>\n",
              "  </tbody>\n",
              "</table>\n",
              "<p>64636 rows × 6 columns</p>\n",
              "</div>"
            ],
            "text/plain": [
              "       Unnamed: 0                                          Situation  \\\n",
              "0               0  I remember going to the fireworks with my best...   \n",
              "1               1  I remember going to the fireworks with my best...   \n",
              "2               2  I remember going to the fireworks with my best...   \n",
              "3               3  I remember going to the fireworks with my best...   \n",
              "4               4  I remember going to the fireworks with my best...   \n",
              "...           ...                                                ...   \n",
              "64631       64631  I found some pictures of my grandma in the att...   \n",
              "64632       64632  I found some pictures of my grandma in the att...   \n",
              "64633       64633  I woke up this morning to my wife telling me s...   \n",
              "64634       64634  I woke up this morning to my wife telling me s...   \n",
              "64635       64635  I woke up this morning to my wife telling me s...   \n",
              "\n",
              "           emotion                               empathetic_dialogues  \\\n",
              "0      sentimental  Customer :I remember going to see the firework...   \n",
              "1      sentimental  Customer :This was a best friend. I miss her.\\...   \n",
              "2      sentimental              Customer :We no longer talk.\\nAgent :   \n",
              "3      sentimental  Customer :Was this a friend you were in love w...   \n",
              "4      sentimental             Customer :Where has she gone?\\nAgent :   \n",
              "...            ...                                                ...   \n",
              "64631  sentimental    Customer :Did you find anything great?\\nAgent :   \n",
              "64632  sentimental      Customer :What a wonderful memory.  \\nAgent :   \n",
              "64633    surprised  Customer :I woke up this morning to my wife te...   \n",
              "64634    surprised  Customer :It is soooo awesome.  We have been w...   \n",
              "64635    surprised  Customer :Oh hey that's awesome!  That is awes...   \n",
              "\n",
              "                                                  labels Unnamed: 5  \n",
              "0      Was this a friend you were in love with, or ju...        NaN  \n",
              "1                                    Where has she gone?        NaN  \n",
              "2      Oh was this something that happened because of...        NaN  \n",
              "3                    This was a best friend. I miss her.        NaN  \n",
              "4                                     We no longer talk.        NaN  \n",
              "...                                                  ...        ...  \n",
              "64631  Yeah I found some old pictures of when us kids...        NaN  \n",
              "64632  Yeah reminds me of the good old days.  I miss ...        NaN  \n",
              "64633     Oh hey that's awesome!  That is awesome right?        NaN  \n",
              "64634               That is awesome!!!! Congratulations!        NaN  \n",
              "64635  It is soooo awesome.  We have been wanting a b...        NaN  \n",
              "\n",
              "[64636 rows x 6 columns]"
            ]
          },
          "execution_count": 3,
          "metadata": {},
          "output_type": "execute_result"
        }
      ],
      "source": [
        "# view file\n",
        "df"
      ]
    },
    {
      "cell_type": "code",
      "execution_count": 33,
      "metadata": {
        "colab": {
          "base_uri": "https://localhost:8080/"
        },
        "id": "FGiedLJd7QQo",
        "outputId": "c279a87f-cd58-48ab-85a6-8d0cbf6be7f6"
      },
      "outputs": [
        {
          "name": "stdout",
          "output_type": "stream",
          "text": [
            "Accuracy: 0.14719987623762376\n"
          ]
        }
      ],
      "source": [
        "# import sklearn libraries\n",
        "from sklearn.model_selection import train_test_split\n",
        "from sklearn.ensemble import RandomForestClassifier\n",
        "from sklearn.metrics import accuracy_score\n",
        "from sklearn.preprocessing import LabelEncoder\n",
        "\n",
        "# categorize columns\n",
        "le_situation = LabelEncoder()\n",
        "le_empathetic_dialogues = LabelEncoder()\n",
        "le_labels = LabelEncoder()\n",
        "\n",
        "df['Situation_encoded'] = le_situation.fit_transform(df['Situation'])\n",
        "df['empathetic_dialogues_encoded'] = le_empathetic_dialogues.fit_transform(df['empathetic_dialogues'])\n",
        "df['labels_encoded'] = le_labels.fit_transform(df['labels'])\n",
        "\n",
        "# assign independent and dependent variables\n",
        "X = df[['Situation_encoded', 'empathetic_dialogues_encoded', 'labels_encoded']]\n",
        "y = df['emotion']\n",
        "\n",
        "# split model 80/20%\n",
        "X_train, X_test, y_train, y_test = train_test_split(X, y, test_size=0.2, random_state=42)\n",
        "\n",
        "# run model\n",
        "model = RandomForestClassifier(random_state=42)\n",
        "model.fit(X_train, y_train)\n",
        "\n",
        "# output accuracy score\n",
        "y_pred = model.predict(X_test)\n",
        "accuracy = accuracy_score(y_test, y_pred)\n",
        "print(f'Accuracy: {accuracy}')\n"
      ]
    },
    {
      "cell_type": "code",
      "execution_count": 37,
      "metadata": {
        "colab": {
          "base_uri": "https://localhost:8080/",
          "height": 35
        },
        "id": "INceF_lC9lqO",
        "outputId": "b93340b3-a67e-41f7-f065-682799c9b40a"
      },
      "outputs": [
        {
          "data": {
            "application/vnd.google.colaboratory.intrinsic+json": {
              "type": "string"
            },
            "text/plain": [
              "'I remember going to the fireworks with my best friend. There was a lot of people, but it only felt like us in the world.'"
            ]
          },
          "execution_count": 37,
          "metadata": {},
          "output_type": "execute_result"
        }
      ],
      "source": [
        "df['Situation'][1]"
      ]
    },
    {
      "cell_type": "code",
      "execution_count": 38,
      "metadata": {
        "colab": {
          "base_uri": "https://localhost:8080/",
          "height": 35
        },
        "id": "YyPAnaV0DdDI",
        "outputId": "f0d8b548-5494-4d22-d782-2b3115ac4aeb"
      },
      "outputs": [
        {
          "data": {
            "application/vnd.google.colaboratory.intrinsic+json": {
              "type": "string"
            },
            "text/plain": [
              "'Customer :This was a best friend. I miss her.\\nAgent :'"
            ]
          },
          "execution_count": 38,
          "metadata": {},
          "output_type": "execute_result"
        }
      ],
      "source": [
        "df['empathetic_dialogues'][1]"
      ]
    },
    {
      "cell_type": "code",
      "execution_count": 39,
      "metadata": {
        "colab": {
          "base_uri": "https://localhost:8080/",
          "height": 35
        },
        "id": "o-ixV3iNDdFm",
        "outputId": "eb8a9149-5013-4d11-cddd-21a2bbd19666"
      },
      "outputs": [
        {
          "data": {
            "application/vnd.google.colaboratory.intrinsic+json": {
              "type": "string"
            },
            "text/plain": [
              "'Where has she gone?'"
            ]
          },
          "execution_count": 39,
          "metadata": {},
          "output_type": "execute_result"
        }
      ],
      "source": [
        "df['labels'][1]"
      ]
    },
    {
      "cell_type": "code",
      "execution_count": 19,
      "metadata": {
        "colab": {
          "base_uri": "https://localhost:8080/"
        },
        "id": "B3y9ngkj_FbA",
        "outputId": "baebb187-0b25-4f03-bb56-103f23dd3b13"
      },
      "outputs": [
        {
          "name": "stdout",
          "output_type": "stream",
          "text": [
            "Accuracy: 0.9635674504950495\n"
          ]
        }
      ],
      "source": [
        "# imports\n",
        "from sklearn.model_selection import train_test_split\n",
        "from sklearn.feature_extraction.text import TfidfVectorizer\n",
        "from sklearn.tree import DecisionTreeClassifier\n",
        "from sklearn.pipeline import make_pipeline\n",
        "from sklearn.metrics import accuracy_score\n",
        "\n",
        "# To speed things up I determined that Situation is the best to use for this\n",
        "X_train, X_test, y_train, y_test = train_test_split(df['Situation'], df['emotion'], test_size=0.2, random_state=42)\n",
        "\n",
        "# Create a basic pipeline that vectorizes the text and then applies a decision tree classifier\n",
        "model = make_pipeline(TfidfVectorizer(), DecisionTreeClassifier())\n",
        "\n",
        "# Train the model\n",
        "model.fit(X_train, y_train)\n",
        "\n",
        "# Predict the emotions on the test set\n",
        "y_pred = model.predict(X_test)\n",
        "\n",
        "# Calculate the accuracy of the model\n",
        "accuracy = accuracy_score(y_test, y_pred)\n",
        "print(f'Accuracy: {accuracy}')\n"
      ]
    },
    {
      "cell_type": "code",
      "execution_count": 23,
      "metadata": {
        "colab": {
          "base_uri": "https://localhost:8080/"
        },
        "id": "15n4thvMCz7Y",
        "outputId": "fedc82ae-dc94-407c-842e-a30fe17ba099"
      },
      "outputs": [
        {
          "name": "stdout",
          "output_type": "stream",
          "text": [
            "Accuracy: 0.4579981435643564\n"
          ]
        }
      ],
      "source": [
        "import pandas as pd\n",
        "from sklearn.model_selection import train_test_split\n",
        "from sklearn.feature_extraction.text import TfidfVectorizer\n",
        "from sklearn.tree import DecisionTreeClassifier\n",
        "from sklearn.pipeline import make_pipeline\n",
        "from sklearn.metrics import accuracy_score\n",
        "\n",
        "df['combined_text'] = df['Situation'].astype(str) + ' ' + df['empathetic_dialogues'].astype(str) + ' ' + df['labels'].astype(str)\n",
        "\n",
        "X_train, X_test, y_train, y_test = train_test_split(df['combined_text'], df['emotion'], test_size=0.2, random_state=42)\n",
        "\n",
        "\n",
        "model = make_pipeline(TfidfVectorizer(), DecisionTreeClassifier())\n",
        "\n",
        "\n",
        "model.fit(X_train, y_train)\n",
        "\n",
        "\n",
        "y_pred = model.predict(X_test)\n",
        "\n",
        "\n",
        "accuracy = accuracy_score(y_test, y_pred)\n",
        "print(f'Accuracy: {accuracy}')\n"
      ]
    }
  ],
  "metadata": {
    "colab": {
      "provenance": []
    },
    "kernelspec": {
      "display_name": "Python 3",
      "name": "python3"
    },
    "language_info": {
      "codemirror_mode": {
        "name": "ipython",
        "version": 3
      },
      "file_extension": ".py",
      "mimetype": "text/x-python",
      "name": "python",
      "nbconvert_exporter": "python",
      "pygments_lexer": "ipython3",
      "version": "3.10.13"
    }
  },
  "nbformat": 4,
  "nbformat_minor": 0
}
